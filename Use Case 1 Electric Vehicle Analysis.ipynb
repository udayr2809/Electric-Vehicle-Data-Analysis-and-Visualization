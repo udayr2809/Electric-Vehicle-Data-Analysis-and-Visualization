{
 "cells": [
  {
   "cell_type": "markdown",
   "id": "fcfd71e3-012c-4b19-8589-6d84aed71926",
   "metadata": {},
   "source": [
    "# Use Case 1: Electric Vehicle (EV) Data Analysis and Visualization"
   ]
  },
  {
   "cell_type": "markdown",
   "id": "9d16150a-d0a5-4324-bee4-b439d897bd06",
   "metadata": {},
   "source": [
    "Name: Uday Raghav"
   ]
  },
  {
   "cell_type": "markdown",
   "id": "3c24fad0-afd8-4677-b240-b4bdc0eae5f7",
   "metadata": {},
   "source": [
    "## Importing Libraries"
   ]
  },
  {
   "cell_type": "code",
   "execution_count": 1,
   "id": "98e26816-25ff-41cc-a6ea-fb3967152c43",
   "metadata": {},
   "outputs": [],
   "source": [
    "import pandas as pd\n",
    "import numpy as np\n",
    "import matplotlib.pyplot as plt\n",
    "import seaborn as sns\n",
    "%matplotlib inline"
   ]
  },
  {
   "cell_type": "code",
   "execution_count": 2,
   "id": "47ee2168-f580-4ec2-8a27-05ad717cc8db",
   "metadata": {},
   "outputs": [],
   "source": [
    "import warnings\n",
    "warnings.filterwarnings(\"ignore\")"
   ]
  },
  {
   "cell_type": "markdown",
   "id": "00b2b10f-3405-4192-a7b4-86050911eb88",
   "metadata": {},
   "source": [
    "## Importing Data"
   ]
  },
  {
   "cell_type": "code",
   "execution_count": 3,
   "id": "d52b918b-0d71-42c2-a0b4-98eb9a3adba0",
   "metadata": {},
   "outputs": [],
   "source": [
    "data = pd.read_csv(r\"C:\\Users\\Lenovo\\Desktop\\data\\1.csv\", encoding='latin1')"
   ]
  },
  {
   "cell_type": "code",
   "execution_count": 4,
   "id": "ccf0f97f-7528-4715-90e7-270100aa68c7",
   "metadata": {},
   "outputs": [
    {
     "data": {
      "text/html": [
       "<div>\n",
       "<style scoped>\n",
       "    .dataframe tbody tr th:only-of-type {\n",
       "        vertical-align: middle;\n",
       "    }\n",
       "\n",
       "    .dataframe tbody tr th {\n",
       "        vertical-align: top;\n",
       "    }\n",
       "\n",
       "    .dataframe thead th {\n",
       "        text-align: right;\n",
       "    }\n",
       "</style>\n",
       "<table border=\"1\" class=\"dataframe\">\n",
       "  <thead>\n",
       "    <tr style=\"text-align: right;\">\n",
       "      <th></th>\n",
       "      <th>Company</th>\n",
       "      <th>Model</th>\n",
       "      <th>Car</th>\n",
       "      <th>Minimal price (gross) [PLN]</th>\n",
       "      <th>Engine power [KM]</th>\n",
       "      <th>Maximum torque [Nm]</th>\n",
       "      <th>Type of brakes</th>\n",
       "      <th>Drive type</th>\n",
       "      <th>Battery capacity [kWh]</th>\n",
       "      <th>Range (WLTP) [km]</th>\n",
       "      <th>...</th>\n",
       "      <th>Permissable gross weight [kg]</th>\n",
       "      <th>Maximum load capacity [kg]</th>\n",
       "      <th>Number of seats</th>\n",
       "      <th>Number of doors</th>\n",
       "      <th>Tire size [in]</th>\n",
       "      <th>Maximum speed [kph]</th>\n",
       "      <th>Boot capacity (VDA) [l]</th>\n",
       "      <th>Acceleration 0-100 kph [s]</th>\n",
       "      <th>Maximum DC charging power [kW]</th>\n",
       "      <th>mean - Energy consumption [kWh/100 km]</th>\n",
       "    </tr>\n",
       "  </thead>\n",
       "  <tbody>\n",
       "    <tr>\n",
       "      <th>0</th>\n",
       "      <td>Audi</td>\n",
       "      <td>e-tron 55 quattro</td>\n",
       "      <td>Audi e-tron 55 quattro</td>\n",
       "      <td>345700.0</td>\n",
       "      <td>360.0</td>\n",
       "      <td>664.0</td>\n",
       "      <td>disc (front + rear)</td>\n",
       "      <td>4WD</td>\n",
       "      <td>95.0</td>\n",
       "      <td>438.0</td>\n",
       "      <td>...</td>\n",
       "      <td>3130.0</td>\n",
       "      <td>640.0</td>\n",
       "      <td>5</td>\n",
       "      <td>5.0</td>\n",
       "      <td>19.0</td>\n",
       "      <td>200.0</td>\n",
       "      <td>660.0</td>\n",
       "      <td>5.7</td>\n",
       "      <td>150.0</td>\n",
       "      <td>24.45</td>\n",
       "    </tr>\n",
       "    <tr>\n",
       "      <th>1</th>\n",
       "      <td>Audi</td>\n",
       "      <td>e-tron 50 quattro</td>\n",
       "      <td>Audi e-tron 50 quattro</td>\n",
       "      <td>308400.0</td>\n",
       "      <td>313.0</td>\n",
       "      <td>540.0</td>\n",
       "      <td>disc (front + rear)</td>\n",
       "      <td>4WD</td>\n",
       "      <td>71.0</td>\n",
       "      <td>340.0</td>\n",
       "      <td>...</td>\n",
       "      <td>3040.0</td>\n",
       "      <td>670.0</td>\n",
       "      <td>5</td>\n",
       "      <td>5.0</td>\n",
       "      <td>19.0</td>\n",
       "      <td>190.0</td>\n",
       "      <td>660.0</td>\n",
       "      <td>6.8</td>\n",
       "      <td>150.0</td>\n",
       "      <td>23.80</td>\n",
       "    </tr>\n",
       "    <tr>\n",
       "      <th>2</th>\n",
       "      <td>Audi</td>\n",
       "      <td>e-tron s quattro</td>\n",
       "      <td>Audi e-tron s quattro</td>\n",
       "      <td>414900.0</td>\n",
       "      <td>503.0</td>\n",
       "      <td>973.0</td>\n",
       "      <td>disc (front + rear)</td>\n",
       "      <td>4WD</td>\n",
       "      <td>95.0</td>\n",
       "      <td>364.0</td>\n",
       "      <td>...</td>\n",
       "      <td>3130.0</td>\n",
       "      <td>565.0</td>\n",
       "      <td>5</td>\n",
       "      <td>5.0</td>\n",
       "      <td>20.0</td>\n",
       "      <td>210.0</td>\n",
       "      <td>660.0</td>\n",
       "      <td>4.5</td>\n",
       "      <td>150.0</td>\n",
       "      <td>27.55</td>\n",
       "    </tr>\n",
       "    <tr>\n",
       "      <th>3</th>\n",
       "      <td>Audi</td>\n",
       "      <td>e-tron sportback 50 quattro</td>\n",
       "      <td>Audi e-tron sportback 50 quattro</td>\n",
       "      <td>319700.0</td>\n",
       "      <td>313.0</td>\n",
       "      <td>540.0</td>\n",
       "      <td>disc (front + rear)</td>\n",
       "      <td>4WD</td>\n",
       "      <td>71.0</td>\n",
       "      <td>346.0</td>\n",
       "      <td>...</td>\n",
       "      <td>3040.0</td>\n",
       "      <td>640.0</td>\n",
       "      <td>5</td>\n",
       "      <td>5.0</td>\n",
       "      <td>19.0</td>\n",
       "      <td>190.0</td>\n",
       "      <td>615.0</td>\n",
       "      <td>6.8</td>\n",
       "      <td>150.0</td>\n",
       "      <td>23.30</td>\n",
       "    </tr>\n",
       "    <tr>\n",
       "      <th>4</th>\n",
       "      <td>Audi</td>\n",
       "      <td>e-tron sportback 55 quattro</td>\n",
       "      <td>Audi e-tron sportback 55 quattro</td>\n",
       "      <td>357000.0</td>\n",
       "      <td>360.0</td>\n",
       "      <td>664.0</td>\n",
       "      <td>disc (front + rear)</td>\n",
       "      <td>NaN</td>\n",
       "      <td>95.0</td>\n",
       "      <td>447.0</td>\n",
       "      <td>...</td>\n",
       "      <td>3130.0</td>\n",
       "      <td>670.0</td>\n",
       "      <td>5</td>\n",
       "      <td>5.0</td>\n",
       "      <td>19.0</td>\n",
       "      <td>200.0</td>\n",
       "      <td>615.0</td>\n",
       "      <td>5.7</td>\n",
       "      <td>150.0</td>\n",
       "      <td>23.85</td>\n",
       "    </tr>\n",
       "  </tbody>\n",
       "</table>\n",
       "<p>5 rows × 25 columns</p>\n",
       "</div>"
      ],
      "text/plain": [
       "  Company                        Model                               Car  \\\n",
       "0    Audi            e-tron 55 quattro            Audi e-tron 55 quattro   \n",
       "1    Audi            e-tron 50 quattro            Audi e-tron 50 quattro   \n",
       "2    Audi             e-tron s quattro             Audi e-tron s quattro   \n",
       "3    Audi  e-tron sportback 50 quattro  Audi e-tron sportback 50 quattro   \n",
       "4    Audi  e-tron sportback 55 quattro  Audi e-tron sportback 55 quattro   \n",
       "\n",
       "   Minimal price (gross) [PLN]  Engine power [KM]  Maximum torque [Nm]  \\\n",
       "0                     345700.0              360.0                664.0   \n",
       "1                     308400.0              313.0                540.0   \n",
       "2                     414900.0              503.0                973.0   \n",
       "3                     319700.0              313.0                540.0   \n",
       "4                     357000.0              360.0                664.0   \n",
       "\n",
       "        Type of brakes Drive type  Battery capacity [kWh]  Range (WLTP) [km]  \\\n",
       "0  disc (front + rear)        4WD                    95.0              438.0   \n",
       "1  disc (front + rear)        4WD                    71.0              340.0   \n",
       "2  disc (front + rear)        4WD                    95.0              364.0   \n",
       "3  disc (front + rear)        4WD                    71.0              346.0   \n",
       "4  disc (front + rear)        NaN                    95.0              447.0   \n",
       "\n",
       "   ...  Permissable gross weight [kg]  Maximum load capacity [kg]  \\\n",
       "0  ...                         3130.0                       640.0   \n",
       "1  ...                         3040.0                       670.0   \n",
       "2  ...                         3130.0                       565.0   \n",
       "3  ...                         3040.0                       640.0   \n",
       "4  ...                         3130.0                       670.0   \n",
       "\n",
       "   Number of seats  Number of doors  Tire size [in]  Maximum speed [kph]  \\\n",
       "0                5              5.0            19.0                200.0   \n",
       "1                5              5.0            19.0                190.0   \n",
       "2                5              5.0            20.0                210.0   \n",
       "3                5              5.0            19.0                190.0   \n",
       "4                5              5.0            19.0                200.0   \n",
       "\n",
       "   Boot capacity (VDA) [l]  Acceleration 0-100 kph [s]  \\\n",
       "0                    660.0                         5.7   \n",
       "1                    660.0                         6.8   \n",
       "2                    660.0                         4.5   \n",
       "3                    615.0                         6.8   \n",
       "4                    615.0                         5.7   \n",
       "\n",
       "   Maximum DC charging power [kW]  mean - Energy consumption [kWh/100 km]  \n",
       "0                           150.0                                   24.45  \n",
       "1                           150.0                                   23.80  \n",
       "2                           150.0                                   27.55  \n",
       "3                           150.0                                   23.30  \n",
       "4                           150.0                                   23.85  \n",
       "\n",
       "[5 rows x 25 columns]"
      ]
     },
     "execution_count": 4,
     "metadata": {},
     "output_type": "execute_result"
    }
   ],
   "source": [
    "data.head()"
   ]
  },
  {
   "cell_type": "code",
   "execution_count": 5,
   "id": "57bc4112-57cb-4222-a311-1b6b711d1a33",
   "metadata": {},
   "outputs": [
    {
     "name": "stdout",
     "output_type": "stream",
     "text": [
      "<class 'pandas.core.frame.DataFrame'>\n",
      "RangeIndex: 148 entries, 0 to 147\n",
      "Data columns (total 25 columns):\n",
      " #   Column                                  Non-Null Count  Dtype  \n",
      "---  ------                                  --------------  -----  \n",
      " 0   Company                                 148 non-null    object \n",
      " 1   Model                                   148 non-null    object \n",
      " 2   Car                                     148 non-null    object \n",
      " 3   Minimal price (gross) [PLN]             53 non-null     float64\n",
      " 4   Engine power [KM]                       145 non-null    float64\n",
      " 5   Maximum torque [Nm]                     145 non-null    float64\n",
      " 6   Type of brakes                          142 non-null    object \n",
      " 7   Drive type                              141 non-null    object \n",
      " 8   Battery capacity [kWh]                  94 non-null     float64\n",
      " 9   Range (WLTP) [km]                       145 non-null    float64\n",
      " 10  Wheelbase [cm]                          53 non-null     float64\n",
      " 11  Length [cm]                             53 non-null     float64\n",
      " 12  Width [cm]                              53 non-null     float64\n",
      " 13  Height [cm]                             53 non-null     float64\n",
      " 14  Minimal empty weight [kg]               53 non-null     float64\n",
      " 15  Permissable gross weight [kg]           45 non-null     float64\n",
      " 16  Maximum load capacity [kg]              45 non-null     float64\n",
      " 17  Number of seats                         148 non-null    int64  \n",
      " 18  Number of doors                         53 non-null     float64\n",
      " 19  Tire size [in]                          53 non-null     float64\n",
      " 20  Maximum speed [kph]                     146 non-null    float64\n",
      " 21  Boot capacity (VDA) [l]                 52 non-null     float64\n",
      " 22  Acceleration 0-100 kph [s]              140 non-null    float64\n",
      " 23  Maximum DC charging power [kW]          141 non-null    float64\n",
      " 24  mean - Energy consumption [kWh/100 km]  44 non-null     float64\n",
      "dtypes: float64(19), int64(1), object(5)\n",
      "memory usage: 29.0+ KB\n"
     ]
    }
   ],
   "source": [
    "data.info()"
   ]
  },
  {
   "cell_type": "code",
   "execution_count": 6,
   "id": "ce263d9b-8db3-478c-aefe-8c58f03ec86a",
   "metadata": {},
   "outputs": [
    {
     "data": {
      "text/plain": [
       "(148, 25)"
      ]
     },
     "execution_count": 6,
     "metadata": {},
     "output_type": "execute_result"
    }
   ],
   "source": [
    "data.shape"
   ]
  },
  {
   "cell_type": "code",
   "execution_count": 7,
   "id": "9eb756af-6254-442b-8a9b-7fc7432b6c16",
   "metadata": {},
   "outputs": [
    {
     "data": {
      "text/html": [
       "<div>\n",
       "<style scoped>\n",
       "    .dataframe tbody tr th:only-of-type {\n",
       "        vertical-align: middle;\n",
       "    }\n",
       "\n",
       "    .dataframe tbody tr th {\n",
       "        vertical-align: top;\n",
       "    }\n",
       "\n",
       "    .dataframe thead th {\n",
       "        text-align: right;\n",
       "    }\n",
       "</style>\n",
       "<table border=\"1\" class=\"dataframe\">\n",
       "  <thead>\n",
       "    <tr style=\"text-align: right;\">\n",
       "      <th></th>\n",
       "      <th>Minimal price (gross) [PLN]</th>\n",
       "      <th>Engine power [KM]</th>\n",
       "      <th>Maximum torque [Nm]</th>\n",
       "      <th>Battery capacity [kWh]</th>\n",
       "      <th>Range (WLTP) [km]</th>\n",
       "      <th>Wheelbase [cm]</th>\n",
       "      <th>Length [cm]</th>\n",
       "      <th>Width [cm]</th>\n",
       "      <th>Height [cm]</th>\n",
       "      <th>Minimal empty weight [kg]</th>\n",
       "      <th>Permissable gross weight [kg]</th>\n",
       "      <th>Maximum load capacity [kg]</th>\n",
       "      <th>Number of seats</th>\n",
       "      <th>Number of doors</th>\n",
       "      <th>Tire size [in]</th>\n",
       "      <th>Maximum speed [kph]</th>\n",
       "      <th>Boot capacity (VDA) [l]</th>\n",
       "      <th>Acceleration 0-100 kph [s]</th>\n",
       "      <th>Maximum DC charging power [kW]</th>\n",
       "      <th>mean - Energy consumption [kWh/100 km]</th>\n",
       "    </tr>\n",
       "  </thead>\n",
       "  <tbody>\n",
       "    <tr>\n",
       "      <th>count</th>\n",
       "      <td>53.000000</td>\n",
       "      <td>145.000000</td>\n",
       "      <td>145.000000</td>\n",
       "      <td>94.000000</td>\n",
       "      <td>145.000000</td>\n",
       "      <td>53.000000</td>\n",
       "      <td>53.000000</td>\n",
       "      <td>53.000000</td>\n",
       "      <td>53.000000</td>\n",
       "      <td>53.000000</td>\n",
       "      <td>45.000000</td>\n",
       "      <td>45.000000</td>\n",
       "      <td>148.000000</td>\n",
       "      <td>53.000000</td>\n",
       "      <td>53.000000</td>\n",
       "      <td>146.000000</td>\n",
       "      <td>52.000000</td>\n",
       "      <td>140.000000</td>\n",
       "      <td>141.000000</td>\n",
       "      <td>44.000000</td>\n",
       "    </tr>\n",
       "    <tr>\n",
       "      <th>mean</th>\n",
       "      <td>246158.509434</td>\n",
       "      <td>280.089655</td>\n",
       "      <td>572.675862</td>\n",
       "      <td>60.609574</td>\n",
       "      <td>355.200000</td>\n",
       "      <td>273.581132</td>\n",
       "      <td>442.509434</td>\n",
       "      <td>186.241509</td>\n",
       "      <td>155.422642</td>\n",
       "      <td>1868.452830</td>\n",
       "      <td>2288.844444</td>\n",
       "      <td>520.466667</td>\n",
       "      <td>4.898649</td>\n",
       "      <td>4.849057</td>\n",
       "      <td>17.679245</td>\n",
       "      <td>179.589041</td>\n",
       "      <td>445.096154</td>\n",
       "      <td>7.350714</td>\n",
       "      <td>336.141844</td>\n",
       "      <td>18.994318</td>\n",
       "    </tr>\n",
       "    <tr>\n",
       "      <th>std</th>\n",
       "      <td>149187.485190</td>\n",
       "      <td>196.491162</td>\n",
       "      <td>837.223552</td>\n",
       "      <td>24.045647</td>\n",
       "      <td>124.453282</td>\n",
       "      <td>22.740518</td>\n",
       "      <td>48.863280</td>\n",
       "      <td>14.280641</td>\n",
       "      <td>11.275358</td>\n",
       "      <td>470.880867</td>\n",
       "      <td>557.796026</td>\n",
       "      <td>140.682848</td>\n",
       "      <td>0.822638</td>\n",
       "      <td>0.455573</td>\n",
       "      <td>1.868500</td>\n",
       "      <td>43.682028</td>\n",
       "      <td>180.178480</td>\n",
       "      <td>2.990549</td>\n",
       "      <td>235.084076</td>\n",
       "      <td>4.418253</td>\n",
       "    </tr>\n",
       "    <tr>\n",
       "      <th>min</th>\n",
       "      <td>82050.000000</td>\n",
       "      <td>44.000000</td>\n",
       "      <td>160.000000</td>\n",
       "      <td>17.600000</td>\n",
       "      <td>95.000000</td>\n",
       "      <td>187.300000</td>\n",
       "      <td>269.500000</td>\n",
       "      <td>164.500000</td>\n",
       "      <td>137.800000</td>\n",
       "      <td>1035.000000</td>\n",
       "      <td>1310.000000</td>\n",
       "      <td>290.000000</td>\n",
       "      <td>2.000000</td>\n",
       "      <td>3.000000</td>\n",
       "      <td>14.000000</td>\n",
       "      <td>123.000000</td>\n",
       "      <td>171.000000</td>\n",
       "      <td>2.100000</td>\n",
       "      <td>22.000000</td>\n",
       "      <td>13.100000</td>\n",
       "    </tr>\n",
       "    <tr>\n",
       "      <th>25%</th>\n",
       "      <td>142900.000000</td>\n",
       "      <td>136.000000</td>\n",
       "      <td>300.000000</td>\n",
       "      <td>40.000000</td>\n",
       "      <td>270.000000</td>\n",
       "      <td>258.800000</td>\n",
       "      <td>411.800000</td>\n",
       "      <td>178.800000</td>\n",
       "      <td>148.100000</td>\n",
       "      <td>1530.000000</td>\n",
       "      <td>1916.000000</td>\n",
       "      <td>440.000000</td>\n",
       "      <td>5.000000</td>\n",
       "      <td>5.000000</td>\n",
       "      <td>16.000000</td>\n",
       "      <td>150.000000</td>\n",
       "      <td>315.000000</td>\n",
       "      <td>5.075000</td>\n",
       "      <td>150.000000</td>\n",
       "      <td>15.600000</td>\n",
       "    </tr>\n",
       "    <tr>\n",
       "      <th>50%</th>\n",
       "      <td>178400.000000</td>\n",
       "      <td>204.000000</td>\n",
       "      <td>395.000000</td>\n",
       "      <td>52.000000</td>\n",
       "      <td>359.000000</td>\n",
       "      <td>270.000000</td>\n",
       "      <td>447.000000</td>\n",
       "      <td>180.900000</td>\n",
       "      <td>155.600000</td>\n",
       "      <td>1685.000000</td>\n",
       "      <td>2119.000000</td>\n",
       "      <td>486.000000</td>\n",
       "      <td>5.000000</td>\n",
       "      <td>5.000000</td>\n",
       "      <td>17.000000</td>\n",
       "      <td>160.000000</td>\n",
       "      <td>425.000000</td>\n",
       "      <td>7.300000</td>\n",
       "      <td>270.000000</td>\n",
       "      <td>17.050000</td>\n",
       "    </tr>\n",
       "    <tr>\n",
       "      <th>75%</th>\n",
       "      <td>339480.000000</td>\n",
       "      <td>360.000000</td>\n",
       "      <td>664.000000</td>\n",
       "      <td>80.000000</td>\n",
       "      <td>425.000000</td>\n",
       "      <td>290.000000</td>\n",
       "      <td>490.100000</td>\n",
       "      <td>193.500000</td>\n",
       "      <td>161.500000</td>\n",
       "      <td>2370.000000</td>\n",
       "      <td>2870.000000</td>\n",
       "      <td>575.000000</td>\n",
       "      <td>5.000000</td>\n",
       "      <td>5.000000</td>\n",
       "      <td>19.000000</td>\n",
       "      <td>200.000000</td>\n",
       "      <td>558.000000</td>\n",
       "      <td>9.000000</td>\n",
       "      <td>480.000000</td>\n",
       "      <td>23.500000</td>\n",
       "    </tr>\n",
       "    <tr>\n",
       "      <th>max</th>\n",
       "      <td>794000.000000</td>\n",
       "      <td>1100.000000</td>\n",
       "      <td>10000.000000</td>\n",
       "      <td>100.000000</td>\n",
       "      <td>970.000000</td>\n",
       "      <td>327.500000</td>\n",
       "      <td>514.000000</td>\n",
       "      <td>255.800000</td>\n",
       "      <td>191.000000</td>\n",
       "      <td>2710.000000</td>\n",
       "      <td>3500.000000</td>\n",
       "      <td>1056.000000</td>\n",
       "      <td>8.000000</td>\n",
       "      <td>5.000000</td>\n",
       "      <td>21.000000</td>\n",
       "      <td>410.000000</td>\n",
       "      <td>870.000000</td>\n",
       "      <td>22.400000</td>\n",
       "      <td>940.000000</td>\n",
       "      <td>28.200000</td>\n",
       "    </tr>\n",
       "  </tbody>\n",
       "</table>\n",
       "</div>"
      ],
      "text/plain": [
       "       Minimal price (gross) [PLN]  Engine power [KM]  Maximum torque [Nm]  \\\n",
       "count                    53.000000         145.000000           145.000000   \n",
       "mean                 246158.509434         280.089655           572.675862   \n",
       "std                  149187.485190         196.491162           837.223552   \n",
       "min                   82050.000000          44.000000           160.000000   \n",
       "25%                  142900.000000         136.000000           300.000000   \n",
       "50%                  178400.000000         204.000000           395.000000   \n",
       "75%                  339480.000000         360.000000           664.000000   \n",
       "max                  794000.000000        1100.000000         10000.000000   \n",
       "\n",
       "       Battery capacity [kWh]  Range (WLTP) [km]  Wheelbase [cm]  Length [cm]  \\\n",
       "count               94.000000         145.000000       53.000000    53.000000   \n",
       "mean                60.609574         355.200000      273.581132   442.509434   \n",
       "std                 24.045647         124.453282       22.740518    48.863280   \n",
       "min                 17.600000          95.000000      187.300000   269.500000   \n",
       "25%                 40.000000         270.000000      258.800000   411.800000   \n",
       "50%                 52.000000         359.000000      270.000000   447.000000   \n",
       "75%                 80.000000         425.000000      290.000000   490.100000   \n",
       "max                100.000000         970.000000      327.500000   514.000000   \n",
       "\n",
       "       Width [cm]  Height [cm]  Minimal empty weight [kg]  \\\n",
       "count   53.000000    53.000000                  53.000000   \n",
       "mean   186.241509   155.422642                1868.452830   \n",
       "std     14.280641    11.275358                 470.880867   \n",
       "min    164.500000   137.800000                1035.000000   \n",
       "25%    178.800000   148.100000                1530.000000   \n",
       "50%    180.900000   155.600000                1685.000000   \n",
       "75%    193.500000   161.500000                2370.000000   \n",
       "max    255.800000   191.000000                2710.000000   \n",
       "\n",
       "       Permissable gross weight [kg]  Maximum load capacity [kg]  \\\n",
       "count                      45.000000                   45.000000   \n",
       "mean                     2288.844444                  520.466667   \n",
       "std                       557.796026                  140.682848   \n",
       "min                      1310.000000                  290.000000   \n",
       "25%                      1916.000000                  440.000000   \n",
       "50%                      2119.000000                  486.000000   \n",
       "75%                      2870.000000                  575.000000   \n",
       "max                      3500.000000                 1056.000000   \n",
       "\n",
       "       Number of seats  Number of doors  Tire size [in]  Maximum speed [kph]  \\\n",
       "count       148.000000        53.000000       53.000000           146.000000   \n",
       "mean          4.898649         4.849057       17.679245           179.589041   \n",
       "std           0.822638         0.455573        1.868500            43.682028   \n",
       "min           2.000000         3.000000       14.000000           123.000000   \n",
       "25%           5.000000         5.000000       16.000000           150.000000   \n",
       "50%           5.000000         5.000000       17.000000           160.000000   \n",
       "75%           5.000000         5.000000       19.000000           200.000000   \n",
       "max           8.000000         5.000000       21.000000           410.000000   \n",
       "\n",
       "       Boot capacity (VDA) [l]  Acceleration 0-100 kph [s]  \\\n",
       "count                52.000000                  140.000000   \n",
       "mean                445.096154                    7.350714   \n",
       "std                 180.178480                    2.990549   \n",
       "min                 171.000000                    2.100000   \n",
       "25%                 315.000000                    5.075000   \n",
       "50%                 425.000000                    7.300000   \n",
       "75%                 558.000000                    9.000000   \n",
       "max                 870.000000                   22.400000   \n",
       "\n",
       "       Maximum DC charging power [kW]  mean - Energy consumption [kWh/100 km]  \n",
       "count                      141.000000                               44.000000  \n",
       "mean                       336.141844                               18.994318  \n",
       "std                        235.084076                                4.418253  \n",
       "min                         22.000000                               13.100000  \n",
       "25%                        150.000000                               15.600000  \n",
       "50%                        270.000000                               17.050000  \n",
       "75%                        480.000000                               23.500000  \n",
       "max                        940.000000                               28.200000  "
      ]
     },
     "execution_count": 7,
     "metadata": {},
     "output_type": "execute_result"
    }
   ],
   "source": [
    "data.describe()"
   ]
  },
  {
   "cell_type": "markdown",
   "id": "903d6e1f-84dd-4061-b8c6-88ab7ee13883",
   "metadata": {},
   "source": [
    "## Data Preprocessing"
   ]
  },
  {
   "cell_type": "code",
   "execution_count": 8,
   "id": "fcaeba74-ccc1-41fc-a86d-b30137d880ce",
   "metadata": {},
   "outputs": [
    {
     "data": {
      "text/plain": [
       "Index(['Company', 'Model', 'Car', 'Minimal price (gross) [PLN]',\n",
       "       'Engine power [KM]', 'Maximum torque [Nm]', 'Type of brakes',\n",
       "       'Drive type', 'Battery capacity [kWh]', 'Range (WLTP) [km]',\n",
       "       'Wheelbase [cm]', 'Length [cm]', 'Width [cm]', 'Height [cm]',\n",
       "       'Minimal empty weight [kg]', 'Permissable gross weight [kg]',\n",
       "       'Maximum load capacity [kg]', 'Number of seats', 'Number of doors',\n",
       "       'Tire size [in]', 'Maximum speed [kph]', 'Boot capacity (VDA) [l]',\n",
       "       'Acceleration 0-100 kph [s]', 'Maximum DC charging power [kW]',\n",
       "       'mean - Energy consumption [kWh/100 km]'],\n",
       "      dtype='object')"
      ]
     },
     "execution_count": 8,
     "metadata": {},
     "output_type": "execute_result"
    }
   ],
   "source": [
    "data.columns"
   ]
  },
  {
   "cell_type": "code",
   "execution_count": 9,
   "id": "eabe8c74-8f14-4543-b110-81068a1c8c1c",
   "metadata": {},
   "outputs": [],
   "source": [
    "data=data[['Company', 'Model','Car', 'Engine power [KM]',\n",
    "       'Maximum torque [Nm]', 'Type of brakes', 'Drive type',\n",
    "       'Battery capacity [kWh]', 'Range (WLTP) [km]',\n",
    "       'Maximum speed [kph]','Acceleration 0-100 kph [s]', 'Maximum DC charging power [kW]',\n",
    "       'mean - Energy consumption [kWh/100 km]']]"
   ]
  },
  {
   "cell_type": "markdown",
   "id": "1bdada5b-6ab9-4e70-8d76-72e2c8d46fc7",
   "metadata": {},
   "source": [
    "Removing irrelevant columns that can't be used to analyse performance of electric vehicle"
   ]
  },
  {
   "cell_type": "code",
   "execution_count": 10,
   "id": "882b68ce-517e-4997-984d-758b46a75425",
   "metadata": {},
   "outputs": [
    {
     "data": {
      "text/html": [
       "<div>\n",
       "<style scoped>\n",
       "    .dataframe tbody tr th:only-of-type {\n",
       "        vertical-align: middle;\n",
       "    }\n",
       "\n",
       "    .dataframe tbody tr th {\n",
       "        vertical-align: top;\n",
       "    }\n",
       "\n",
       "    .dataframe thead th {\n",
       "        text-align: right;\n",
       "    }\n",
       "</style>\n",
       "<table border=\"1\" class=\"dataframe\">\n",
       "  <thead>\n",
       "    <tr style=\"text-align: right;\">\n",
       "      <th></th>\n",
       "      <th>Company</th>\n",
       "      <th>Model</th>\n",
       "      <th>Car</th>\n",
       "      <th>Engine power [KM]</th>\n",
       "      <th>Maximum torque [Nm]</th>\n",
       "      <th>Type of brakes</th>\n",
       "      <th>Drive type</th>\n",
       "      <th>Battery capacity [kWh]</th>\n",
       "      <th>Range (WLTP) [km]</th>\n",
       "      <th>Maximum speed [kph]</th>\n",
       "      <th>Acceleration 0-100 kph [s]</th>\n",
       "      <th>Maximum DC charging power [kW]</th>\n",
       "      <th>mean - Energy consumption [kWh/100 km]</th>\n",
       "    </tr>\n",
       "  </thead>\n",
       "  <tbody>\n",
       "    <tr>\n",
       "      <th>0</th>\n",
       "      <td>Audi</td>\n",
       "      <td>e-tron 55 quattro</td>\n",
       "      <td>Audi e-tron 55 quattro</td>\n",
       "      <td>360.0</td>\n",
       "      <td>664.0</td>\n",
       "      <td>disc (front + rear)</td>\n",
       "      <td>4WD</td>\n",
       "      <td>95.0</td>\n",
       "      <td>438.0</td>\n",
       "      <td>200.0</td>\n",
       "      <td>5.7</td>\n",
       "      <td>150.0</td>\n",
       "      <td>24.45</td>\n",
       "    </tr>\n",
       "    <tr>\n",
       "      <th>1</th>\n",
       "      <td>Audi</td>\n",
       "      <td>e-tron 50 quattro</td>\n",
       "      <td>Audi e-tron 50 quattro</td>\n",
       "      <td>313.0</td>\n",
       "      <td>540.0</td>\n",
       "      <td>disc (front + rear)</td>\n",
       "      <td>4WD</td>\n",
       "      <td>71.0</td>\n",
       "      <td>340.0</td>\n",
       "      <td>190.0</td>\n",
       "      <td>6.8</td>\n",
       "      <td>150.0</td>\n",
       "      <td>23.80</td>\n",
       "    </tr>\n",
       "    <tr>\n",
       "      <th>2</th>\n",
       "      <td>Audi</td>\n",
       "      <td>e-tron s quattro</td>\n",
       "      <td>Audi e-tron s quattro</td>\n",
       "      <td>503.0</td>\n",
       "      <td>973.0</td>\n",
       "      <td>disc (front + rear)</td>\n",
       "      <td>4WD</td>\n",
       "      <td>95.0</td>\n",
       "      <td>364.0</td>\n",
       "      <td>210.0</td>\n",
       "      <td>4.5</td>\n",
       "      <td>150.0</td>\n",
       "      <td>27.55</td>\n",
       "    </tr>\n",
       "    <tr>\n",
       "      <th>3</th>\n",
       "      <td>Audi</td>\n",
       "      <td>e-tron sportback 50 quattro</td>\n",
       "      <td>Audi e-tron sportback 50 quattro</td>\n",
       "      <td>313.0</td>\n",
       "      <td>540.0</td>\n",
       "      <td>disc (front + rear)</td>\n",
       "      <td>4WD</td>\n",
       "      <td>71.0</td>\n",
       "      <td>346.0</td>\n",
       "      <td>190.0</td>\n",
       "      <td>6.8</td>\n",
       "      <td>150.0</td>\n",
       "      <td>23.30</td>\n",
       "    </tr>\n",
       "    <tr>\n",
       "      <th>4</th>\n",
       "      <td>Audi</td>\n",
       "      <td>e-tron sportback 55 quattro</td>\n",
       "      <td>Audi e-tron sportback 55 quattro</td>\n",
       "      <td>360.0</td>\n",
       "      <td>664.0</td>\n",
       "      <td>disc (front + rear)</td>\n",
       "      <td>NaN</td>\n",
       "      <td>95.0</td>\n",
       "      <td>447.0</td>\n",
       "      <td>200.0</td>\n",
       "      <td>5.7</td>\n",
       "      <td>150.0</td>\n",
       "      <td>23.85</td>\n",
       "    </tr>\n",
       "  </tbody>\n",
       "</table>\n",
       "</div>"
      ],
      "text/plain": [
       "  Company                        Model                               Car  \\\n",
       "0    Audi            e-tron 55 quattro            Audi e-tron 55 quattro   \n",
       "1    Audi            e-tron 50 quattro            Audi e-tron 50 quattro   \n",
       "2    Audi             e-tron s quattro             Audi e-tron s quattro   \n",
       "3    Audi  e-tron sportback 50 quattro  Audi e-tron sportback 50 quattro   \n",
       "4    Audi  e-tron sportback 55 quattro  Audi e-tron sportback 55 quattro   \n",
       "\n",
       "   Engine power [KM]  Maximum torque [Nm]       Type of brakes Drive type  \\\n",
       "0              360.0                664.0  disc (front + rear)        4WD   \n",
       "1              313.0                540.0  disc (front + rear)        4WD   \n",
       "2              503.0                973.0  disc (front + rear)        4WD   \n",
       "3              313.0                540.0  disc (front + rear)        4WD   \n",
       "4              360.0                664.0  disc (front + rear)        NaN   \n",
       "\n",
       "   Battery capacity [kWh]  Range (WLTP) [km]  Maximum speed [kph]  \\\n",
       "0                    95.0              438.0                200.0   \n",
       "1                    71.0              340.0                190.0   \n",
       "2                    95.0              364.0                210.0   \n",
       "3                    71.0              346.0                190.0   \n",
       "4                    95.0              447.0                200.0   \n",
       "\n",
       "   Acceleration 0-100 kph [s]  Maximum DC charging power [kW]  \\\n",
       "0                         5.7                           150.0   \n",
       "1                         6.8                           150.0   \n",
       "2                         4.5                           150.0   \n",
       "3                         6.8                           150.0   \n",
       "4                         5.7                           150.0   \n",
       "\n",
       "   mean - Energy consumption [kWh/100 km]  \n",
       "0                                   24.45  \n",
       "1                                   23.80  \n",
       "2                                   27.55  \n",
       "3                                   23.30  \n",
       "4                                   23.85  "
      ]
     },
     "execution_count": 10,
     "metadata": {},
     "output_type": "execute_result"
    }
   ],
   "source": [
    "data.head()"
   ]
  },
  {
   "cell_type": "markdown",
   "id": "d3d034a4-45cf-44ed-9cd8-88ed5d3e1c2d",
   "metadata": {},
   "source": [
    "### Handling Missing Data"
   ]
  },
  {
   "cell_type": "code",
   "execution_count": 11,
   "id": "c499c5ac-8fbe-47bb-bf5e-708133c6f255",
   "metadata": {},
   "outputs": [
    {
     "data": {
      "text/plain": [
       "<Axes: >"
      ]
     },
     "execution_count": 11,
     "metadata": {},
     "output_type": "execute_result"
    },
    {
     "data": {
      "image/png": "[encoded data removed]",
      "text/plain": [
       "<Figure size 640x480 with 1 Axes>"
      ]
     },
     "metadata": {},
     "output_type": "display_data"
    }
   ],
   "source": [
    "sns.heatmap(data.isnull(),cbar=False)"
   ]
  },
  {
   "cell_type": "markdown",
   "id": "be00d279-b1e8-4adb-9242-0b2a1d7bbb86",
   "metadata": {},
   "source": [
    "Columns with more than 50 percent missing data can not be used for analysis. So simply removing these columns, that are Battery Capacity and Mean Energy Consumption"
   ]
  },
  {
   "cell_type": "code",
   "execution_count": 12,
   "id": "e6d2f74e-0a3a-4305-a89b-0b0dc42aec87",
   "metadata": {},
   "outputs": [],
   "source": [
    "data.drop(columns=['Battery capacity [kWh]','mean - Energy consumption [kWh/100 km]'],inplace=True)"
   ]
  },
  {
   "cell_type": "code",
   "execution_count": 13,
   "id": "c3011f0c-716f-4b2e-8737-931979227018",
   "metadata": {},
   "outputs": [
    {
     "data": {
      "text/plain": [
       "Index(['Company', 'Model', 'Car', 'Engine power [KM]', 'Maximum torque [Nm]',\n",
       "       'Type of brakes', 'Drive type', 'Range (WLTP) [km]',\n",
       "       'Maximum speed [kph]', 'Acceleration 0-100 kph [s]',\n",
       "       'Maximum DC charging power [kW]'],\n",
       "      dtype='object')"
      ]
     },
     "execution_count": 13,
     "metadata": {},
     "output_type": "execute_result"
    }
   ],
   "source": [
    "data.columns"
   ]
  },
  {
   "cell_type": "markdown",
   "id": "6af94fd3-b552-4765-b062-45dbde28c93b",
   "metadata": {},
   "source": [
    "### Splitting data into numeric and categorical"
   ]
  },
  {
   "cell_type": "code",
   "execution_count": 14,
   "id": "74de8be8-2c2c-46e5-b930-9c9426928a2a",
   "metadata": {},
   "outputs": [],
   "source": [
    "numcol = []\n",
    "catcol = []\n",
    "for col in data.columns:\n",
    "    if data[col].dtype == 'object':\n",
    "        catcol.append(col)\n",
    "    else:\n",
    "        numcol.append(col)"
   ]
  },
  {
   "cell_type": "code",
   "execution_count": 15,
   "id": "a5ba04d4-32cf-4213-8133-00af6082256f",
   "metadata": {},
   "outputs": [
    {
     "name": "stdout",
     "output_type": "stream",
     "text": [
      "List of numerical columns:  ['Engine power [KM]', 'Maximum torque [Nm]', 'Range (WLTP) [km]', 'Maximum speed [kph]', 'Acceleration 0-100 kph [s]', 'Maximum DC charging power [kW]']\n"
     ]
    }
   ],
   "source": [
    "print(\"List of numerical columns: \", numcol)"
   ]
  },
  {
   "cell_type": "code",
   "execution_count": 16,
   "id": "e0c99290-ab0d-4409-8d09-8a707b753a24",
   "metadata": {},
   "outputs": [
    {
     "name": "stdout",
     "output_type": "stream",
     "text": [
      "List of categorical columns:  ['Company', 'Model', 'Car', 'Type of brakes', 'Drive type']\n"
     ]
    }
   ],
   "source": [
    "print(\"List of categorical columns: \", catcol)"
   ]
  },
  {
   "cell_type": "markdown",
   "id": "1aa29573-ae2b-40ac-9efe-ded9f1484d8d",
   "metadata": {},
   "source": [
    "##### Replacing missing numerical value and categorical value with median and mode value respectively"
   ]
  },
  {
   "cell_type": "code",
   "execution_count": 17,
   "id": "6a6e6976-3574-459c-b715-9168ae4008c5",
   "metadata": {},
   "outputs": [],
   "source": [
    "from sklearn.impute import SimpleImputer\n",
    "imp_median=SimpleImputer(missing_values=np.nan,strategy='median')\n",
    "imp_mode=SimpleImputer(missing_values=np.nan,strategy='most_frequent')"
   ]
  },
  {
   "cell_type": "code",
   "execution_count": 18,
   "id": "45b17c5f-b544-45fd-be3a-020c79e9b483",
   "metadata": {},
   "outputs": [],
   "source": [
    "data_num= pd.DataFrame(imp_median.fit_transform(data[numcol]),columns=numcol)\n",
    "data_cat= pd.DataFrame(imp_mode.fit_transform(data[catcol]),columns=catcol)"
   ]
  },
  {
   "cell_type": "code",
   "execution_count": 19,
   "id": "4abc28ce-80d3-44e7-9994-61f5750b880f",
   "metadata": {},
   "outputs": [],
   "source": [
    "data=pd.concat([data_cat, data_num], axis=1)"
   ]
  },
  {
   "cell_type": "code",
   "execution_count": 20,
   "id": "8f2b8b0d-b86b-430c-8ab1-55e4eaf42269",
   "metadata": {},
   "outputs": [
    {
     "data": {
      "text/html": [
       "<div>\n",
       "<style scoped>\n",
       "    .dataframe tbody tr th:only-of-type {\n",
       "        vertical-align: middle;\n",
       "    }\n",
       "\n",
       "    .dataframe tbody tr th {\n",
       "        vertical-align: top;\n",
       "    }\n",
       "\n",
       "    .dataframe thead th {\n",
       "        text-align: right;\n",
       "    }\n",
       "</style>\n",
       "<table border=\"1\" class=\"dataframe\">\n",
       "  <thead>\n",
       "    <tr style=\"text-align: right;\">\n",
       "      <th></th>\n",
       "      <th>Company</th>\n",
       "      <th>Model</th>\n",
       "      <th>Car</th>\n",
       "      <th>Type of brakes</th>\n",
       "      <th>Drive type</th>\n",
       "      <th>Engine power [KM]</th>\n",
       "      <th>Maximum torque [Nm]</th>\n",
       "      <th>Range (WLTP) [km]</th>\n",
       "      <th>Maximum speed [kph]</th>\n",
       "      <th>Acceleration 0-100 kph [s]</th>\n",
       "      <th>Maximum DC charging power [kW]</th>\n",
       "    </tr>\n",
       "  </thead>\n",
       "  <tbody>\n",
       "    <tr>\n",
       "      <th>0</th>\n",
       "      <td>Audi</td>\n",
       "      <td>e-tron 55 quattro</td>\n",
       "      <td>Audi e-tron 55 quattro</td>\n",
       "      <td>disc (front + rear)</td>\n",
       "      <td>4WD</td>\n",
       "      <td>360.0</td>\n",
       "      <td>664.0</td>\n",
       "      <td>438.0</td>\n",
       "      <td>200.0</td>\n",
       "      <td>5.7</td>\n",
       "      <td>150.0</td>\n",
       "    </tr>\n",
       "    <tr>\n",
       "      <th>1</th>\n",
       "      <td>Audi</td>\n",
       "      <td>e-tron 50 quattro</td>\n",
       "      <td>Audi e-tron 50 quattro</td>\n",
       "      <td>disc (front + rear)</td>\n",
       "      <td>4WD</td>\n",
       "      <td>313.0</td>\n",
       "      <td>540.0</td>\n",
       "      <td>340.0</td>\n",
       "      <td>190.0</td>\n",
       "      <td>6.8</td>\n",
       "      <td>150.0</td>\n",
       "    </tr>\n",
       "    <tr>\n",
       "      <th>2</th>\n",
       "      <td>Audi</td>\n",
       "      <td>e-tron s quattro</td>\n",
       "      <td>Audi e-tron s quattro</td>\n",
       "      <td>disc (front + rear)</td>\n",
       "      <td>4WD</td>\n",
       "      <td>503.0</td>\n",
       "      <td>973.0</td>\n",
       "      <td>364.0</td>\n",
       "      <td>210.0</td>\n",
       "      <td>4.5</td>\n",
       "      <td>150.0</td>\n",
       "    </tr>\n",
       "    <tr>\n",
       "      <th>3</th>\n",
       "      <td>Audi</td>\n",
       "      <td>e-tron sportback 50 quattro</td>\n",
       "      <td>Audi e-tron sportback 50 quattro</td>\n",
       "      <td>disc (front + rear)</td>\n",
       "      <td>4WD</td>\n",
       "      <td>313.0</td>\n",
       "      <td>540.0</td>\n",
       "      <td>346.0</td>\n",
       "      <td>190.0</td>\n",
       "      <td>6.8</td>\n",
       "      <td>150.0</td>\n",
       "    </tr>\n",
       "    <tr>\n",
       "      <th>4</th>\n",
       "      <td>Audi</td>\n",
       "      <td>e-tron sportback 55 quattro</td>\n",
       "      <td>Audi e-tron sportback 55 quattro</td>\n",
       "      <td>disc (front + rear)</td>\n",
       "      <td>2WD</td>\n",
       "      <td>360.0</td>\n",
       "      <td>664.0</td>\n",
       "      <td>447.0</td>\n",
       "      <td>200.0</td>\n",
       "      <td>5.7</td>\n",
       "      <td>150.0</td>\n",
       "    </tr>\n",
       "  </tbody>\n",
       "</table>\n",
       "</div>"
      ],
      "text/plain": [
       "  Company                        Model                               Car  \\\n",
       "0    Audi            e-tron 55 quattro            Audi e-tron 55 quattro   \n",
       "1    Audi            e-tron 50 quattro            Audi e-tron 50 quattro   \n",
       "2    Audi             e-tron s quattro             Audi e-tron s quattro   \n",
       "3    Audi  e-tron sportback 50 quattro  Audi e-tron sportback 50 quattro   \n",
       "4    Audi  e-tron sportback 55 quattro  Audi e-tron sportback 55 quattro   \n",
       "\n",
       "        Type of brakes Drive type  Engine power [KM]  Maximum torque [Nm]  \\\n",
       "0  disc (front + rear)        4WD              360.0                664.0   \n",
       "1  disc (front + rear)        4WD              313.0                540.0   \n",
       "2  disc (front + rear)        4WD              503.0                973.0   \n",
       "3  disc (front + rear)        4WD              313.0                540.0   \n",
       "4  disc (front + rear)        2WD              360.0                664.0   \n",
       "\n",
       "   Range (WLTP) [km]  Maximum speed [kph]  Acceleration 0-100 kph [s]  \\\n",
       "0              438.0                200.0                         5.7   \n",
       "1              340.0                190.0                         6.8   \n",
       "2              364.0                210.0                         4.5   \n",
       "3              346.0                190.0                         6.8   \n",
       "4              447.0                200.0                         5.7   \n",
       "\n",
       "   Maximum DC charging power [kW]  \n",
       "0                           150.0  \n",
       "1                           150.0  \n",
       "2                           150.0  \n",
       "3                           150.0  \n",
       "4                           150.0  "
      ]
     },
     "execution_count": 20,
     "metadata": {},
     "output_type": "execute_result"
    }
   ],
   "source": [
    "data.head()"
   ]
  },
  {
   "cell_type": "code",
   "execution_count": 21,
   "id": "74e126eb-09ff-4ff7-aac9-51b5a09896bb",
   "metadata": {},
   "outputs": [
    {
     "data": {
      "text/plain": [
       "<Axes: >"
      ]
     },
     "execution_count": 21,
     "metadata": {},
     "output_type": "execute_result"
    },
    {
     "data": {
      "image/png": "[encoded data removed]",
      "text/plain": [
       "<Figure size 640x480 with 1 Axes>"
      ]
     },
     "metadata": {},
     "output_type": "display_data"
    }
   ],
   "source": [
    "sns.heatmap(data.isnull(),cbar=False)"
   ]
  },
  {
   "cell_type": "markdown",
   "id": "4ec9e46b-7453-4a35-9c1c-985c423f839d",
   "metadata": {},
   "source": [
    "### Outlier Analysis"
   ]
  },
  {
   "cell_type": "code",
   "execution_count": 22,
   "id": "9828c3d4-e8ce-46ec-afc6-5a3ade961054",
   "metadata": {},
   "outputs": [
    {
     "data": {
      "text/plain": [
       "<Axes: >"
      ]
     },
     "execution_count": 22,
     "metadata": {},
     "output_type": "execute_result"
    },
    {
     "data": {
      "image/png": "[encoded data removed]",
      "text/plain": [
       "<Figure size 1200x500 with 1 Axes>"
      ]
     },
     "metadata": {},
     "output_type": "display_data"
    }
   ],
   "source": [
    "plt.figure(figsize=(12,5))\n",
    "data.boxplot()"
   ]
  },
  {
   "cell_type": "markdown",
   "id": "390744e1-f5e6-4a61-b1e2-8c503fbceac8",
   "metadata": {},
   "source": [
    "## Normalization"
   ]
  },
  {
   "cell_type": "code",
   "execution_count": 23,
   "id": "da2caa3b-06bb-4a8d-b2b3-51196b62723d",
   "metadata": {},
   "outputs": [],
   "source": [
    "from sklearn.preprocessing import MinMaxScaler\n",
    "mns=MinMaxScaler()"
   ]
  },
  {
   "cell_type": "code",
   "execution_count": 24,
   "id": "d085d0b2-93a8-492a-8f8a-61f4866ab0e7",
   "metadata": {},
   "outputs": [],
   "source": [
    "df= mns.fit_transform(data[numcol])"
   ]
  },
  {
   "cell_type": "code",
   "execution_count": 25,
   "id": "3ff5f6ad-07cc-4cf4-94e4-3fdcb32ad781",
   "metadata": {},
   "outputs": [
    {
     "data": {
      "text/html": [
       "<div>\n",
       "<style scoped>\n",
       "    .dataframe tbody tr th:only-of-type {\n",
       "        vertical-align: middle;\n",
       "    }\n",
       "\n",
       "    .dataframe tbody tr th {\n",
       "        vertical-align: top;\n",
       "    }\n",
       "\n",
       "    .dataframe thead th {\n",
       "        text-align: right;\n",
       "    }\n",
       "</style>\n",
       "<table border=\"1\" class=\"dataframe\">\n",
       "  <thead>\n",
       "    <tr style=\"text-align: right;\">\n",
       "      <th></th>\n",
       "      <th>Engine power [KM]</th>\n",
       "      <th>Maximum torque [Nm]</th>\n",
       "      <th>Range (WLTP) [km]</th>\n",
       "      <th>Maximum speed [kph]</th>\n",
       "      <th>Acceleration 0-100 kph [s]</th>\n",
       "      <th>Maximum DC charging power [kW]</th>\n",
       "    </tr>\n",
       "  </thead>\n",
       "  <tbody>\n",
       "    <tr>\n",
       "      <th>0</th>\n",
       "      <td>0.299242</td>\n",
       "      <td>0.051220</td>\n",
       "      <td>0.392000</td>\n",
       "      <td>0.268293</td>\n",
       "      <td>0.177340</td>\n",
       "      <td>0.139434</td>\n",
       "    </tr>\n",
       "    <tr>\n",
       "      <th>1</th>\n",
       "      <td>0.254735</td>\n",
       "      <td>0.038618</td>\n",
       "      <td>0.280000</td>\n",
       "      <td>0.233449</td>\n",
       "      <td>0.231527</td>\n",
       "      <td>0.139434</td>\n",
       "    </tr>\n",
       "    <tr>\n",
       "      <th>2</th>\n",
       "      <td>0.434659</td>\n",
       "      <td>0.082622</td>\n",
       "      <td>0.307429</td>\n",
       "      <td>0.303136</td>\n",
       "      <td>0.118227</td>\n",
       "      <td>0.139434</td>\n",
       "    </tr>\n",
       "    <tr>\n",
       "      <th>3</th>\n",
       "      <td>0.254735</td>\n",
       "      <td>0.038618</td>\n",
       "      <td>0.286857</td>\n",
       "      <td>0.233449</td>\n",
       "      <td>0.231527</td>\n",
       "      <td>0.139434</td>\n",
       "    </tr>\n",
       "    <tr>\n",
       "      <th>4</th>\n",
       "      <td>0.299242</td>\n",
       "      <td>0.051220</td>\n",
       "      <td>0.402286</td>\n",
       "      <td>0.268293</td>\n",
       "      <td>0.177340</td>\n",
       "      <td>0.139434</td>\n",
       "    </tr>\n",
       "    <tr>\n",
       "      <th>...</th>\n",
       "      <td>...</td>\n",
       "      <td>...</td>\n",
       "      <td>...</td>\n",
       "      <td>...</td>\n",
       "      <td>...</td>\n",
       "      <td>...</td>\n",
       "    </tr>\n",
       "    <tr>\n",
       "      <th>143</th>\n",
       "      <td>0.100379</td>\n",
       "      <td>0.015244</td>\n",
       "      <td>0.371429</td>\n",
       "      <td>0.128920</td>\n",
       "      <td>0.266010</td>\n",
       "      <td>0.586057</td>\n",
       "    </tr>\n",
       "    <tr>\n",
       "      <th>144</th>\n",
       "      <td>0.151515</td>\n",
       "      <td>0.015244</td>\n",
       "      <td>0.291429</td>\n",
       "      <td>0.128920</td>\n",
       "      <td>0.339901</td>\n",
       "      <td>0.509804</td>\n",
       "    </tr>\n",
       "    <tr>\n",
       "      <th>145</th>\n",
       "      <td>0.151515</td>\n",
       "      <td>0.015244</td>\n",
       "      <td>0.280000</td>\n",
       "      <td>0.128920</td>\n",
       "      <td>0.256158</td>\n",
       "      <td>0.488017</td>\n",
       "    </tr>\n",
       "    <tr>\n",
       "      <th>146</th>\n",
       "      <td>0.151515</td>\n",
       "      <td>0.015244</td>\n",
       "      <td>0.280000</td>\n",
       "      <td>0.128920</td>\n",
       "      <td>0.256158</td>\n",
       "      <td>0.488017</td>\n",
       "    </tr>\n",
       "    <tr>\n",
       "      <th>147</th>\n",
       "      <td>0.100379</td>\n",
       "      <td>0.015244</td>\n",
       "      <td>0.320000</td>\n",
       "      <td>0.198606</td>\n",
       "      <td>0.137931</td>\n",
       "      <td>0.488017</td>\n",
       "    </tr>\n",
       "  </tbody>\n",
       "</table>\n",
       "<p>148 rows × 6 columns</p>\n",
       "</div>"
      ],
      "text/plain": [
       "     Engine power [KM]  Maximum torque [Nm]  Range (WLTP) [km]  \\\n",
       "0             0.299242             0.051220           0.392000   \n",
       "1             0.254735             0.038618           0.280000   \n",
       "2             0.434659             0.082622           0.307429   \n",
       "3             0.254735             0.038618           0.286857   \n",
       "4             0.299242             0.051220           0.402286   \n",
       "..                 ...                  ...                ...   \n",
       "143           0.100379             0.015244           0.371429   \n",
       "144           0.151515             0.015244           0.291429   \n",
       "145           0.151515             0.015244           0.280000   \n",
       "146           0.151515             0.015244           0.280000   \n",
       "147           0.100379             0.015244           0.320000   \n",
       "\n",
       "     Maximum speed [kph]  Acceleration 0-100 kph [s]  \\\n",
       "0               0.268293                    0.177340   \n",
       "1               0.233449                    0.231527   \n",
       "2               0.303136                    0.118227   \n",
       "3               0.233449                    0.231527   \n",
       "4               0.268293                    0.177340   \n",
       "..                   ...                         ...   \n",
       "143             0.128920                    0.266010   \n",
       "144             0.128920                    0.339901   \n",
       "145             0.128920                    0.256158   \n",
       "146             0.128920                    0.256158   \n",
       "147             0.198606                    0.137931   \n",
       "\n",
       "     Maximum DC charging power [kW]  \n",
       "0                          0.139434  \n",
       "1                          0.139434  \n",
       "2                          0.139434  \n",
       "3                          0.139434  \n",
       "4                          0.139434  \n",
       "..                              ...  \n",
       "143                        0.586057  \n",
       "144                        0.509804  \n",
       "145                        0.488017  \n",
       "146                        0.488017  \n",
       "147                        0.488017  \n",
       "\n",
       "[148 rows x 6 columns]"
      ]
     },
     "execution_count": 25,
     "metadata": {},
     "output_type": "execute_result"
    }
   ],
   "source": [
    "data_nom =pd.DataFrame(df,columns=numcol)\n",
    "data_nom"
   ]
  },
  {
   "cell_type": "code",
   "execution_count": 26,
   "id": "668de5a6-7f90-4f35-87b9-5ff1789ed029",
   "metadata": {},
   "outputs": [],
   "source": [
    "data=pd.concat([data_cat,data_nom],axis=1)"
   ]
  },
  {
   "cell_type": "markdown",
   "id": "302a3d2e-6ee6-45d4-9624-09ef98a2cf75",
   "metadata": {},
   "source": [
    "## Encoding Variables"
   ]
  },
  {
   "cell_type": "code",
   "execution_count": 27,
   "id": "6ebdb3b6-982d-4858-8e9a-bffa7d8040e5",
   "metadata": {},
   "outputs": [
    {
     "data": {
      "text/plain": [
       "['Company', 'Model', 'Car', 'Type of brakes', 'Drive type']"
      ]
     },
     "execution_count": 27,
     "metadata": {},
     "output_type": "execute_result"
    }
   ],
   "source": [
    "catcol"
   ]
  },
  {
   "cell_type": "code",
   "execution_count": 28,
   "id": "01a1427b-6cb9-41ad-a85e-563058a1f417",
   "metadata": {},
   "outputs": [],
   "source": [
    "data = pd.get_dummies(data, columns=[ 'Type of brakes','Drive type'])"
   ]
  },
  {
   "cell_type": "code",
   "execution_count": 29,
   "id": "0b0ceeec-5126-488b-979a-6f2a6b3d4eb8",
   "metadata": {},
   "outputs": [
    {
     "data": {
      "text/html": [
       "<div>\n",
       "<style scoped>\n",
       "    .dataframe tbody tr th:only-of-type {\n",
       "        vertical-align: middle;\n",
       "    }\n",
       "\n",
       "    .dataframe tbody tr th {\n",
       "        vertical-align: top;\n",
       "    }\n",
       "\n",
       "    .dataframe thead th {\n",
       "        text-align: right;\n",
       "    }\n",
       "</style>\n",
       "<table border=\"1\" class=\"dataframe\">\n",
       "  <thead>\n",
       "    <tr style=\"text-align: right;\">\n",
       "      <th></th>\n",
       "      <th>Company</th>\n",
       "      <th>Model</th>\n",
       "      <th>Car</th>\n",
       "      <th>Engine power [KM]</th>\n",
       "      <th>Maximum torque [Nm]</th>\n",
       "      <th>Range (WLTP) [km]</th>\n",
       "      <th>Maximum speed [kph]</th>\n",
       "      <th>Acceleration 0-100 kph [s]</th>\n",
       "      <th>Maximum DC charging power [kW]</th>\n",
       "      <th>Type of brakes_disc (front + rear)</th>\n",
       "      <th>Type of brakes_disc (front) + drum (rear)</th>\n",
       "      <th>Drive type_2WD</th>\n",
       "      <th>Drive type_4WD</th>\n",
       "    </tr>\n",
       "  </thead>\n",
       "  <tbody>\n",
       "    <tr>\n",
       "      <th>0</th>\n",
       "      <td>Audi</td>\n",
       "      <td>e-tron 55 quattro</td>\n",
       "      <td>Audi e-tron 55 quattro</td>\n",
       "      <td>0.299242</td>\n",
       "      <td>0.051220</td>\n",
       "      <td>0.392000</td>\n",
       "      <td>0.268293</td>\n",
       "      <td>0.177340</td>\n",
       "      <td>0.139434</td>\n",
       "      <td>True</td>\n",
       "      <td>False</td>\n",
       "      <td>False</td>\n",
       "      <td>True</td>\n",
       "    </tr>\n",
       "    <tr>\n",
       "      <th>1</th>\n",
       "      <td>Audi</td>\n",
       "      <td>e-tron 50 quattro</td>\n",
       "      <td>Audi e-tron 50 quattro</td>\n",
       "      <td>0.254735</td>\n",
       "      <td>0.038618</td>\n",
       "      <td>0.280000</td>\n",
       "      <td>0.233449</td>\n",
       "      <td>0.231527</td>\n",
       "      <td>0.139434</td>\n",
       "      <td>True</td>\n",
       "      <td>False</td>\n",
       "      <td>False</td>\n",
       "      <td>True</td>\n",
       "    </tr>\n",
       "    <tr>\n",
       "      <th>2</th>\n",
       "      <td>Audi</td>\n",
       "      <td>e-tron s quattro</td>\n",
       "      <td>Audi e-tron s quattro</td>\n",
       "      <td>0.434659</td>\n",
       "      <td>0.082622</td>\n",
       "      <td>0.307429</td>\n",
       "      <td>0.303136</td>\n",
       "      <td>0.118227</td>\n",
       "      <td>0.139434</td>\n",
       "      <td>True</td>\n",
       "      <td>False</td>\n",
       "      <td>False</td>\n",
       "      <td>True</td>\n",
       "    </tr>\n",
       "    <tr>\n",
       "      <th>3</th>\n",
       "      <td>Audi</td>\n",
       "      <td>e-tron sportback 50 quattro</td>\n",
       "      <td>Audi e-tron sportback 50 quattro</td>\n",
       "      <td>0.254735</td>\n",
       "      <td>0.038618</td>\n",
       "      <td>0.286857</td>\n",
       "      <td>0.233449</td>\n",
       "      <td>0.231527</td>\n",
       "      <td>0.139434</td>\n",
       "      <td>True</td>\n",
       "      <td>False</td>\n",
       "      <td>False</td>\n",
       "      <td>True</td>\n",
       "    </tr>\n",
       "    <tr>\n",
       "      <th>4</th>\n",
       "      <td>Audi</td>\n",
       "      <td>e-tron sportback 55 quattro</td>\n",
       "      <td>Audi e-tron sportback 55 quattro</td>\n",
       "      <td>0.299242</td>\n",
       "      <td>0.051220</td>\n",
       "      <td>0.402286</td>\n",
       "      <td>0.268293</td>\n",
       "      <td>0.177340</td>\n",
       "      <td>0.139434</td>\n",
       "      <td>True</td>\n",
       "      <td>False</td>\n",
       "      <td>True</td>\n",
       "      <td>False</td>\n",
       "    </tr>\n",
       "  </tbody>\n",
       "</table>\n",
       "</div>"
      ],
      "text/plain": [
       "  Company                        Model                               Car  \\\n",
       "0    Audi            e-tron 55 quattro            Audi e-tron 55 quattro   \n",
       "1    Audi            e-tron 50 quattro            Audi e-tron 50 quattro   \n",
       "2    Audi             e-tron s quattro             Audi e-tron s quattro   \n",
       "3    Audi  e-tron sportback 50 quattro  Audi e-tron sportback 50 quattro   \n",
       "4    Audi  e-tron sportback 55 quattro  Audi e-tron sportback 55 quattro   \n",
       "\n",
       "   Engine power [KM]  Maximum torque [Nm]  Range (WLTP) [km]  \\\n",
       "0           0.299242             0.051220           0.392000   \n",
       "1           0.254735             0.038618           0.280000   \n",
       "2           0.434659             0.082622           0.307429   \n",
       "3           0.254735             0.038618           0.286857   \n",
       "4           0.299242             0.051220           0.402286   \n",
       "\n",
       "   Maximum speed [kph]  Acceleration 0-100 kph [s]  \\\n",
       "0             0.268293                    0.177340   \n",
       "1             0.233449                    0.231527   \n",
       "2             0.303136                    0.118227   \n",
       "3             0.233449                    0.231527   \n",
       "4             0.268293                    0.177340   \n",
       "\n",
       "   Maximum DC charging power [kW]  Type of brakes_disc (front + rear)  \\\n",
       "0                        0.139434                                True   \n",
       "1                        0.139434                                True   \n",
       "2                        0.139434                                True   \n",
       "3                        0.139434                                True   \n",
       "4                        0.139434                                True   \n",
       "\n",
       "   Type of brakes_disc (front) + drum (rear)  Drive type_2WD  Drive type_4WD  \n",
       "0                                      False           False            True  \n",
       "1                                      False           False            True  \n",
       "2                                      False           False            True  \n",
       "3                                      False           False            True  \n",
       "4                                      False            True           False  "
      ]
     },
     "execution_count": 29,
     "metadata": {},
     "output_type": "execute_result"
    }
   ],
   "source": [
    "data.head()"
   ]
  },
  {
   "cell_type": "code",
   "execution_count": 30,
   "id": "be7b9c94-5279-42f6-90f0-8e15e51e8767",
   "metadata": {},
   "outputs": [
    {
     "data": {
      "text/plain": [
       "Index(['Company', 'Model', 'Car', 'Engine power [KM]', 'Maximum torque [Nm]',\n",
       "       'Range (WLTP) [km]', 'Maximum speed [kph]',\n",
       "       'Acceleration 0-100 kph [s]', 'Maximum DC charging power [kW]',\n",
       "       'Type of brakes_disc (front + rear)',\n",
       "       'Type of brakes_disc (front) + drum (rear)', 'Drive type_2WD',\n",
       "       'Drive type_4WD'],\n",
       "      dtype='object')"
      ]
     },
     "execution_count": 30,
     "metadata": {},
     "output_type": "execute_result"
    }
   ],
   "source": [
    "data.columns"
   ]
  },
  {
   "cell_type": "code",
   "execution_count": 31,
   "id": "753b35d9-19a0-4197-aa0b-00b4cb94b660",
   "metadata": {},
   "outputs": [],
   "source": [
    "data.drop(['Type of brakes_disc (front) + drum (rear)', 'Drive type_2WD'],axis=1,inplace=True)"
   ]
  },
  {
   "cell_type": "code",
   "execution_count": 32,
   "id": "931c4b36-8b7d-43da-81ab-2716d2269764",
   "metadata": {},
   "outputs": [],
   "source": [
    "data.to_csv('electric_vehicles.csv', index=False)"
   ]
  },
  {
   "cell_type": "markdown",
   "id": "002859db-a736-4eb1-ac79-622d794708fe",
   "metadata": {},
   "source": [
    "## Visualization"
   ]
  },
  {
   "cell_type": "code",
   "execution_count": 33,
   "id": "1700c2b7-4604-442b-b63c-92f3a956100a",
   "metadata": {},
   "outputs": [
    {
     "data": {
      "text/plain": [
       "<Axes: title={'center': 'Range by Company'}, xlabel='Company', ylabel='Range'>"
      ]
     },
     "execution_count": 33,
     "metadata": {},
     "output_type": "execute_result"
    },
    {
     "data": {
      "image/png": "[encoded data removed]",
      "text/plain": [
       "<Figure size 3500x1000 with 1 Axes>"
      ]
     },
     "metadata": {},
     "output_type": "display_data"
    }
   ],
   "source": [
    "plt.figure(figsize=(35, 10))\n",
    "plt.xlabel('Company', fontsize=20)\n",
    "plt.ylabel('Range', fontsize=20)\n",
    "plt.title('Range by Company', fontsize=25)\n",
    "sns.barplot(x='Company', y='Range (WLTP) [km]',palette='deep',estimator=np.max, data=data)"
   ]
  },
  {
   "cell_type": "code",
   "execution_count": 34,
   "id": "d27aa7f9-6370-44a5-8465-2293b96fc09d",
   "metadata": {},
   "outputs": [
    {
     "data": {
      "text/plain": [
       "<Axes: title={'center': 'Charging Power by Company'}, xlabel='Company', ylabel='Charging Power'>"
      ]
     },
     "execution_count": 34,
     "metadata": {},
     "output_type": "execute_result"
    },
    {
     "data": {
      "image/png": "[encoded data removed]",
      "text/plain": [
       "<Figure size 3500x1000 with 1 Axes>"
      ]
     },
     "metadata": {},
     "output_type": "display_data"
    }
   ],
   "source": [
    "plt.figure(figsize=(35, 10))\n",
    "plt.xlabel('Company', fontsize=20)\n",
    "plt.ylabel('Charging Power', fontsize=20)\n",
    "plt.title('Charging Power by Company', fontsize=25)\n",
    "sns.barplot(x='Company', y='Maximum DC charging power [kW]',palette='deep',estimator=np.max, data=data)"
   ]
  },
  {
   "cell_type": "markdown",
   "id": "3709ac3b-fa23-4d3c-b62e-18a9f29c7132",
   "metadata": {},
   "source": [
    "Lightyear, Porsche and Tesla are best performing in terms of Battery Range and Charging Power"
   ]
  },
  {
   "cell_type": "markdown",
   "id": "4b581aa0-7c4d-4fb2-8a16-dc65d4560d42",
   "metadata": {},
   "source": [
    "##### Separating top performing companies from data and then analyzing"
   ]
  },
  {
   "cell_type": "code",
   "execution_count": 35,
   "id": "3c4f1aae-32dc-4c56-b3c7-b25753847bec",
   "metadata": {},
   "outputs": [
    {
     "data": {
      "text/html": [
       "<div>\n",
       "<style scoped>\n",
       "    .dataframe tbody tr th:only-of-type {\n",
       "        vertical-align: middle;\n",
       "    }\n",
       "\n",
       "    .dataframe tbody tr th {\n",
       "        vertical-align: top;\n",
       "    }\n",
       "\n",
       "    .dataframe thead th {\n",
       "        text-align: right;\n",
       "    }\n",
       "</style>\n",
       "<table border=\"1\" class=\"dataframe\">\n",
       "  <thead>\n",
       "    <tr style=\"text-align: right;\">\n",
       "      <th></th>\n",
       "      <th>Company</th>\n",
       "      <th>Model</th>\n",
       "      <th>Car</th>\n",
       "      <th>Engine power [KM]</th>\n",
       "      <th>Maximum torque [Nm]</th>\n",
       "      <th>Range (WLTP) [km]</th>\n",
       "      <th>Maximum speed [kph]</th>\n",
       "      <th>Acceleration 0-100 kph [s]</th>\n",
       "      <th>Maximum DC charging power [kW]</th>\n",
       "      <th>Type of brakes_disc (front + rear)</th>\n",
       "      <th>Drive type_4WD</th>\n",
       "    </tr>\n",
       "  </thead>\n",
       "  <tbody>\n",
       "    <tr>\n",
       "      <th>57</th>\n",
       "      <td>Lightyear</td>\n",
       "      <td>one</td>\n",
       "      <td>Lightyear one</td>\n",
       "      <td>0.422348</td>\n",
       "      <td>0.049797</td>\n",
       "      <td>0.548571</td>\n",
       "      <td>0.094077</td>\n",
       "      <td>0.389163</td>\n",
       "      <td>0.564270</td>\n",
       "      <td>True</td>\n",
       "      <td>True</td>\n",
       "    </tr>\n",
       "    <tr>\n",
       "      <th>87</th>\n",
       "      <td>Porsche</td>\n",
       "      <td>taycan 4s (performance)</td>\n",
       "      <td>Porsche taycan 4s (performance)</td>\n",
       "      <td>0.370265</td>\n",
       "      <td>0.048780</td>\n",
       "      <td>0.356571</td>\n",
       "      <td>0.442509</td>\n",
       "      <td>0.093596</td>\n",
       "      <td>0.221133</td>\n",
       "      <td>True</td>\n",
       "      <td>True</td>\n",
       "    </tr>\n",
       "    <tr>\n",
       "      <th>88</th>\n",
       "      <td>Porsche</td>\n",
       "      <td>taycan 4s (performance plus)</td>\n",
       "      <td>Porsche taycan 4s (performance plus)</td>\n",
       "      <td>0.422348</td>\n",
       "      <td>0.049797</td>\n",
       "      <td>0.420571</td>\n",
       "      <td>0.442509</td>\n",
       "      <td>0.093596</td>\n",
       "      <td>0.270153</td>\n",
       "      <td>True</td>\n",
       "      <td>True</td>\n",
       "    </tr>\n",
       "    <tr>\n",
       "      <th>89</th>\n",
       "      <td>Porsche</td>\n",
       "      <td>taycan turbo</td>\n",
       "      <td>Porsche taycan turbo</td>\n",
       "      <td>0.550189</td>\n",
       "      <td>0.070122</td>\n",
       "      <td>0.405714</td>\n",
       "      <td>0.477352</td>\n",
       "      <td>0.054187</td>\n",
       "      <td>0.270153</td>\n",
       "      <td>True</td>\n",
       "      <td>True</td>\n",
       "    </tr>\n",
       "    <tr>\n",
       "      <th>90</th>\n",
       "      <td>Porsche</td>\n",
       "      <td>taycan turbo s</td>\n",
       "      <td>Porsche taycan turbo s</td>\n",
       "      <td>0.550189</td>\n",
       "      <td>0.090447</td>\n",
       "      <td>0.362286</td>\n",
       "      <td>0.477352</td>\n",
       "      <td>0.034483</td>\n",
       "      <td>0.270153</td>\n",
       "      <td>True</td>\n",
       "      <td>True</td>\n",
       "    </tr>\n",
       "  </tbody>\n",
       "</table>\n",
       "</div>"
      ],
      "text/plain": [
       "      Company                         Model  \\\n",
       "57  Lightyear                           one   \n",
       "87    Porsche       taycan 4s (performance)   \n",
       "88    Porsche  taycan 4s (performance plus)   \n",
       "89    Porsche                  taycan turbo   \n",
       "90    Porsche                taycan turbo s   \n",
       "\n",
       "                                     Car  Engine power [KM]  \\\n",
       "57                         Lightyear one           0.422348   \n",
       "87       Porsche taycan 4s (performance)           0.370265   \n",
       "88  Porsche taycan 4s (performance plus)           0.422348   \n",
       "89                  Porsche taycan turbo           0.550189   \n",
       "90                Porsche taycan turbo s           0.550189   \n",
       "\n",
       "    Maximum torque [Nm]  Range (WLTP) [km]  Maximum speed [kph]  \\\n",
       "57             0.049797           0.548571             0.094077   \n",
       "87             0.048780           0.356571             0.442509   \n",
       "88             0.049797           0.420571             0.442509   \n",
       "89             0.070122           0.405714             0.477352   \n",
       "90             0.090447           0.362286             0.477352   \n",
       "\n",
       "    Acceleration 0-100 kph [s]  Maximum DC charging power [kW]  \\\n",
       "57                    0.389163                        0.564270   \n",
       "87                    0.093596                        0.221133   \n",
       "88                    0.093596                        0.270153   \n",
       "89                    0.054187                        0.270153   \n",
       "90                    0.034483                        0.270153   \n",
       "\n",
       "    Type of brakes_disc (front + rear)  Drive type_4WD  \n",
       "57                                True            True  \n",
       "87                                True            True  \n",
       "88                                True            True  \n",
       "89                                True            True  \n",
       "90                                True            True  "
      ]
     },
     "execution_count": 35,
     "metadata": {},
     "output_type": "execute_result"
    }
   ],
   "source": [
    "top = data[data['Company'].isin(['Lightyear', 'Porsche', 'Tesla'])]\n",
    "top.head()"
   ]
  },
  {
   "cell_type": "code",
   "execution_count": 36,
   "id": "f432ad72-e379-4d21-8419-1b0c96a33332",
   "metadata": {},
   "outputs": [
    {
     "data": {
      "text/plain": [
       "<Axes: title={'center': 'Maximum speed [kph]'}, xlabel='Company', ylabel='Maximum speed [kph]'>"
      ]
     },
     "execution_count": 36,
     "metadata": {},
     "output_type": "execute_result"
    },
    {
     "data": {
      "image/png": "[encoded data removed]",
      "text/plain": [
       "<Figure size 1500x1000 with 3 Axes>"
      ]
     },
     "metadata": {},
     "output_type": "display_data"
    }
   ],
   "source": [
    "plt.figure(figsize=(15, 10))\n",
    "plt.subplot(2, 2, 1)\n",
    "plt.title('Engine power [KM]')\n",
    "sns.barplot(x='Company', y='Engine power [KM]',estimator=np.max, palette='deep', data=top)\n",
    "plt.subplot(2, 2, 2)\n",
    "plt.title('Maximum torque [Nm]')\n",
    "sns.barplot(x='Company', y='Maximum torque [Nm]',estimator=np.max, palette='deep', data=top)\n",
    "plt.subplot(2, 2, 3)\n",
    "plt.title('Maximum speed [kph]')\n",
    "sns.barplot(x='Company', y='Maximum speed [kph]',estimator=np.max, palette='deep', data=top)"
   ]
  },
  {
   "cell_type": "markdown",
   "id": "53175841-4376-4c7a-9407-de757eaa6649",
   "metadata": {},
   "source": [
    "## Insights"
   ]
  },
  {
   "cell_type": "markdown",
   "id": "2ed1c707-78f1-4fa9-8960-1a6b30f42176",
   "metadata": {},
   "source": [
    "Based on the data analysis, Tesla emerged as the best-performing electric vehicle (EV) brand. Among the evaluated models, Tesla demonstrated the highest range which significantly surpassed the ranges of other brands, such as Audi and BMW. Tesla's superior range highlights its leading position in EV performance."
   ]
  }
 ],
 "metadata": {
  "kernelspec": {
   "display_name": "Python 3 (ipykernel)",
   "language": "python",
   "name": "python3"
  },
  "language_info": {
   "codemirror_mode": {
    "name": "ipython",
    "version": 3
   },
   "file_extension": ".py",
   "mimetype": "text/x-python",
   "name": "python",
   "nbconvert_exporter": "python",
   "pygments_lexer": "ipython3",
   "version": "3.12.3"
  }
 },
 "nbformat": 4,
 "nbformat_minor": 5
}
